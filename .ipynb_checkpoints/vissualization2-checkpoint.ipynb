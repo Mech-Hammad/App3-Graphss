{
 "cells": [
  {
   "cell_type": "markdown",
   "id": "589d69c8",
   "metadata": {},
   "source": [
    "## Data to information"
   ]
  },
  {
   "cell_type": "code",
   "execution_count": 3,
   "id": "d2855611",
   "metadata": {},
   "outputs": [],
   "source": [
    "import pandas as pd\n",
    "from datetime import datetime\n",
    "from pytz import utc"
   ]
  },
  {
   "cell_type": "code",
   "execution_count": 4,
   "id": "be1c854d",
   "metadata": {},
   "outputs": [],
   "source": [
    "df = pd.read_csv(\"reviews.csv\")"
   ]
  },
  {
   "cell_type": "markdown",
   "id": "42d18539",
   "metadata": {},
   "source": [
    "### Average Rating"
   ]
  },
  {
   "cell_type": "code",
   "execution_count": null,
   "id": "7420d7e9",
   "metadata": {},
   "outputs": [],
   "source": [
    "df['Rating'].mean()"
   ]
  },
  {
   "cell_type": "markdown",
   "id": "2717f07d",
   "metadata": {},
   "source": [
    "### Average Rating for a particular course"
   ]
  },
  {
   "cell_type": "markdown",
   "id": "e719723a",
   "metadata": {},
   "source": [
    "### Average Rating for particular period"
   ]
  },
  {
   "cell_type": "markdown",
   "id": "dc0724ec",
   "metadata": {},
   "source": [
    "### Average Rating For particular period for particular course"
   ]
  },
  {
   "cell_type": "code",
   "execution_count": null,
   "id": "57b0d7b1",
   "metadata": {},
   "outputs": [],
   "source": []
  },
  {
   "cell_type": "code",
   "execution_count": null,
   "id": "c124e70d",
   "metadata": {},
   "outputs": [],
   "source": []
  }
 ],
 "metadata": {
  "kernelspec": {
   "display_name": "Python 3 (ipykernel)",
   "language": "python",
   "name": "python3"
  },
  "language_info": {
   "codemirror_mode": {
    "name": "ipython",
    "version": 3
   },
   "file_extension": ".py",
   "mimetype": "text/x-python",
   "name": "python",
   "nbconvert_exporter": "python",
   "pygments_lexer": "ipython3",
   "version": "3.10.5"
  }
 },
 "nbformat": 4,
 "nbformat_minor": 5
}

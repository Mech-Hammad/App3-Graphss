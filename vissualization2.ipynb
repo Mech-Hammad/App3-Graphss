{
 "cells": [
  {
   "cell_type": "markdown",
   "id": "589d69c8",
   "metadata": {},
   "source": [
    "## Data to information"
   ]
  },
  {
   "cell_type": "code",
   "execution_count": 14,
   "id": "d2855611",
   "metadata": {},
   "outputs": [],
   "source": [
    "import pandas as pd\n",
    "from datetime import datetime\n",
    "from pytz import utc"
   ]
  },
  {
   "cell_type": "code",
   "execution_count": 15,
   "id": "be1c854d",
   "metadata": {},
   "outputs": [],
   "source": [
    "df = pd.read_csv(\"reviews.csv\", parse_dates=['Timestamp'])"
   ]
  },
  {
   "cell_type": "markdown",
   "id": "42d18539",
   "metadata": {},
   "source": [
    "### Average Rating"
   ]
  },
  {
   "cell_type": "code",
   "execution_count": 16,
   "id": "7420d7e9",
   "metadata": {},
   "outputs": [
    {
     "data": {
      "text/plain": [
       "4.442155555555556"
      ]
     },
     "execution_count": 16,
     "metadata": {},
     "output_type": "execute_result"
    }
   ],
   "source": [
    "df['Rating'].mean()"
   ]
  },
  {
   "cell_type": "markdown",
   "id": "2717f07d",
   "metadata": {},
   "source": [
    "### Average Rating for a particular course"
   ]
  },
  {
   "cell_type": "code",
   "execution_count": 17,
   "id": "2732eb6d",
   "metadata": {},
   "outputs": [
    {
     "data": {
      "text/plain": [
       "4.477270180942244"
      ]
     },
     "execution_count": 17,
     "metadata": {},
     "output_type": "execute_result"
    }
   ],
   "source": [
    "df[df['Course Name']=='The Python Mega Course: Build 10 Real World Applications']['Rating'].mean()"
   ]
  },
  {
   "cell_type": "markdown",
   "id": "e719723a",
   "metadata": {},
   "source": [
    "### Average Rating for particular period"
   ]
  },
  {
   "cell_type": "code",
   "execution_count": 18,
   "id": "5fe8d6d7",
   "metadata": {},
   "outputs": [
    {
     "data": {
      "text/plain": [
       "4.5175084175084175"
      ]
     },
     "execution_count": 18,
     "metadata": {},
     "output_type": "execute_result"
    }
   ],
   "source": [
    "df[\n",
    "    (df['Timestamp'] >= datetime(2020,7,1, tzinfo=utc)) &\n",
    "    (df['Timestamp'] <= datetime(2020,8,1, tzinfo=utc))\n",
    "    ]['Rating'].mean()"
   ]
  },
  {
   "cell_type": "markdown",
   "id": "dc0724ec",
   "metadata": {},
   "source": [
    "### Average Rating For particular period for particular course"
   ]
  },
  {
   "cell_type": "code",
   "execution_count": 19,
   "id": "57b0d7b1",
   "metadata": {},
   "outputs": [
    {
     "data": {
      "text/plain": [
       "4.5338484179543785"
      ]
     },
     "execution_count": 19,
     "metadata": {},
     "output_type": "execute_result"
    }
   ],
   "source": [
    "df[\n",
    "    (df['Course Name']=='The Python Mega Course: Build 10 Real World Applications') & \n",
    "    (df['Timestamp'] >= datetime(2020,7,1, tzinfo=utc)) &\n",
    "    (df['Timestamp'] <= datetime(2020,8,1, tzinfo=utc))\n",
    "    ]['Rating'].mean()"
   ]
  },
  {
   "cell_type": "markdown",
   "id": "c124e70d",
   "metadata": {},
   "source": [
    "### Average of Uncommented Ratings"
   ]
  },
  {
   "cell_type": "code",
   "execution_count": 36,
   "id": "4d785edc",
   "metadata": {},
   "outputs": [
    {
     "data": {
      "text/plain": [
       "4.433679746603492"
      ]
     },
     "execution_count": 36,
     "metadata": {},
     "output_type": "execute_result"
    }
   ],
   "source": [
    "df[df['Comment'].isnull()]['Rating'].mean()"
   ]
  },
  {
   "cell_type": "markdown",
   "id": "1a50d51b",
   "metadata": {},
   "source": [
    "### Average of Commented Ratings"
   ]
  },
  {
   "cell_type": "code",
   "execution_count": 38,
   "id": "1bccf6a8",
   "metadata": {},
   "outputs": [
    {
     "data": {
      "text/plain": [
       "4.489777908515959"
      ]
     },
     "execution_count": 38,
     "metadata": {},
     "output_type": "execute_result"
    }
   ],
   "source": [
    "df[df['Comment'].notnull()]['Rating'].mean()"
   ]
  },
  {
   "cell_type": "markdown",
   "id": "486dd554",
   "metadata": {},
   "source": [
    "### Number of Uncommented Ratings"
   ]
  },
  {
   "cell_type": "code",
   "execution_count": 28,
   "id": "6afc905c",
   "metadata": {},
   "outputs": [
    {
     "data": {
      "text/plain": [
       "38201"
      ]
     },
     "execution_count": 28,
     "metadata": {},
     "output_type": "execute_result"
    }
   ],
   "source": [
    "df[df['Comment'].isnull()]['Rating'].count()"
   ]
  },
  {
   "cell_type": "markdown",
   "id": "d7680480",
   "metadata": {},
   "source": [
    "### Number of Commented Ratings"
   ]
  },
  {
   "cell_type": "code",
   "execution_count": 30,
   "id": "814d2fb9",
   "metadata": {},
   "outputs": [
    {
     "data": {
      "text/plain": [
       "6799"
      ]
     },
     "execution_count": 30,
     "metadata": {},
     "output_type": "execute_result"
    }
   ],
   "source": [
    "len(df[df['Comment'].notnull()]['Rating'])"
   ]
  },
  {
   "cell_type": "markdown",
   "id": "777bb81d",
   "metadata": {},
   "source": [
    "### Number of comments containing a certain word"
   ]
  },
  {
   "cell_type": "code",
   "execution_count": 47,
   "id": "c23b69e9",
   "metadata": {},
   "outputs": [
    {
     "data": {
      "text/html": [
       "<div>\n",
       "<style scoped>\n",
       "    .dataframe tbody tr th:only-of-type {\n",
       "        vertical-align: middle;\n",
       "    }\n",
       "\n",
       "    .dataframe tbody tr th {\n",
       "        vertical-align: top;\n",
       "    }\n",
       "\n",
       "    .dataframe thead th {\n",
       "        text-align: right;\n",
       "    }\n",
       "</style>\n",
       "<table border=\"1\" class=\"dataframe\">\n",
       "  <thead>\n",
       "    <tr style=\"text-align: right;\">\n",
       "      <th></th>\n",
       "      <th>Course Name</th>\n",
       "      <th>Timestamp</th>\n",
       "      <th>Rating</th>\n",
       "      <th>Comment</th>\n",
       "    </tr>\n",
       "  </thead>\n",
       "  <tbody>\n",
       "    <tr>\n",
       "      <th>137</th>\n",
       "      <td>The Python Mega Course: Build 10 Real World Ap...</td>\n",
       "      <td>2021-03-28 14:05:43+00:00</td>\n",
       "      <td>3.5</td>\n",
       "      <td>Good</td>\n",
       "    </tr>\n",
       "    <tr>\n",
       "      <th>730</th>\n",
       "      <td>The Python Mega Course: Build 10 Real World Ap...</td>\n",
       "      <td>2021-03-07 18:24:14+00:00</td>\n",
       "      <td>4.5</td>\n",
       "      <td>Good for beginners. Could be faster for experi...</td>\n",
       "    </tr>\n",
       "    <tr>\n",
       "      <th>983</th>\n",
       "      <td>The Python Mega Course: Build 10 Real World Ap...</td>\n",
       "      <td>2021-02-27 09:12:36+00:00</td>\n",
       "      <td>5.0</td>\n",
       "      <td>I did one course (half of it) with \"clean vide...</td>\n",
       "    </tr>\n",
       "    <tr>\n",
       "      <th>1321</th>\n",
       "      <td>The Complete Python Course: Build 10 Professio...</td>\n",
       "      <td>2021-02-17 10:32:31+00:00</td>\n",
       "      <td>5.0</td>\n",
       "      <td>Big course with practical projects. Good for j...</td>\n",
       "    </tr>\n",
       "    <tr>\n",
       "      <th>1727</th>\n",
       "      <td>The Complete Python Course: Build 10 Professio...</td>\n",
       "      <td>2021-02-03 23:12:11+00:00</td>\n",
       "      <td>4.0</td>\n",
       "      <td>Good</td>\n",
       "    </tr>\n",
       "    <tr>\n",
       "      <th>...</th>\n",
       "      <td>...</td>\n",
       "      <td>...</td>\n",
       "      <td>...</td>\n",
       "      <td>...</td>\n",
       "    </tr>\n",
       "    <tr>\n",
       "      <th>44826</th>\n",
       "      <td>The Python Mega Course: Build 10 Real World Ap...</td>\n",
       "      <td>2018-01-04 15:59:32+00:00</td>\n",
       "      <td>4.0</td>\n",
       "      <td>Good course, could use some more background on...</td>\n",
       "    </tr>\n",
       "    <tr>\n",
       "      <th>44880</th>\n",
       "      <td>Python for Beginners with Examples</td>\n",
       "      <td>2018-01-03 10:47:25+00:00</td>\n",
       "      <td>4.0</td>\n",
       "      <td>Good</td>\n",
       "    </tr>\n",
       "    <tr>\n",
       "      <th>44931</th>\n",
       "      <td>Python for Beginners with Examples</td>\n",
       "      <td>2018-01-02 13:14:01+00:00</td>\n",
       "      <td>4.0</td>\n",
       "      <td>Good</td>\n",
       "    </tr>\n",
       "    <tr>\n",
       "      <th>44946</th>\n",
       "      <td>The Python Mega Course: Build 10 Real World Ap...</td>\n",
       "      <td>2018-01-02 05:06:58+00:00</td>\n",
       "      <td>4.5</td>\n",
       "      <td>Good</td>\n",
       "    </tr>\n",
       "    <tr>\n",
       "      <th>44964</th>\n",
       "      <td>The Python Mega Course: Build 10 Real World Ap...</td>\n",
       "      <td>2018-01-01 18:57:38+00:00</td>\n",
       "      <td>4.0</td>\n",
       "      <td>Good clear explanations for beginners.</td>\n",
       "    </tr>\n",
       "  </tbody>\n",
       "</table>\n",
       "<p>270 rows × 4 columns</p>\n",
       "</div>"
      ],
      "text/plain": [
       "                                             Course Name  \\\n",
       "137    The Python Mega Course: Build 10 Real World Ap...   \n",
       "730    The Python Mega Course: Build 10 Real World Ap...   \n",
       "983    The Python Mega Course: Build 10 Real World Ap...   \n",
       "1321   The Complete Python Course: Build 10 Professio...   \n",
       "1727   The Complete Python Course: Build 10 Professio...   \n",
       "...                                                  ...   \n",
       "44826  The Python Mega Course: Build 10 Real World Ap...   \n",
       "44880                 Python for Beginners with Examples   \n",
       "44931                 Python for Beginners with Examples   \n",
       "44946  The Python Mega Course: Build 10 Real World Ap...   \n",
       "44964  The Python Mega Course: Build 10 Real World Ap...   \n",
       "\n",
       "                      Timestamp  Rating  \\\n",
       "137   2021-03-28 14:05:43+00:00     3.5   \n",
       "730   2021-03-07 18:24:14+00:00     4.5   \n",
       "983   2021-02-27 09:12:36+00:00     5.0   \n",
       "1321  2021-02-17 10:32:31+00:00     5.0   \n",
       "1727  2021-02-03 23:12:11+00:00     4.0   \n",
       "...                         ...     ...   \n",
       "44826 2018-01-04 15:59:32+00:00     4.0   \n",
       "44880 2018-01-03 10:47:25+00:00     4.0   \n",
       "44931 2018-01-02 13:14:01+00:00     4.0   \n",
       "44946 2018-01-02 05:06:58+00:00     4.5   \n",
       "44964 2018-01-01 18:57:38+00:00     4.0   \n",
       "\n",
       "                                                 Comment  \n",
       "137                                                 Good  \n",
       "730    Good for beginners. Could be faster for experi...  \n",
       "983    I did one course (half of it) with \"clean vide...  \n",
       "1321   Big course with practical projects. Good for j...  \n",
       "1727                                                Good  \n",
       "...                                                  ...  \n",
       "44826  Good course, could use some more background on...  \n",
       "44880                                               Good  \n",
       "44931                                               Good  \n",
       "44946                                               Good  \n",
       "44964             Good clear explanations for beginners.  \n",
       "\n",
       "[270 rows x 4 columns]"
      ]
     },
     "execution_count": 47,
     "metadata": {},
     "output_type": "execute_result"
    }
   ],
   "source": [
    "\n",
    "\n",
    "df[df['Comment'].str.contains(\"Good\", na=False)]\n"
   ]
  },
  {
   "cell_type": "markdown",
   "id": "b12bea90",
   "metadata": {},
   "source": [
    "### Numer of commneted ratins with \"accent\" in comment"
   ]
  },
  {
   "cell_type": "code",
   "execution_count": 52,
   "id": "3b981a01",
   "metadata": {},
   "outputs": [
    {
     "data": {
      "text/plain": [
       "3.8636363636363638"
      ]
     },
     "execution_count": 52,
     "metadata": {},
     "output_type": "execute_result"
    }
   ],
   "source": [
    "df[df['Comment'].str.contains(\"accent\", na=False)]['Rating'].mean()"
   ]
  }
 ],
 "metadata": {
  "kernelspec": {
   "display_name": "Python 3.10.5 64-bit",
   "language": "python",
   "name": "python3"
  },
  "language_info": {
   "codemirror_mode": {
    "name": "ipython",
    "version": 3
   },
   "file_extension": ".py",
   "mimetype": "text/x-python",
   "name": "python",
   "nbconvert_exporter": "python",
   "pygments_lexer": "ipython3",
   "version": "3.10.5"
  },
  "vscode": {
   "interpreter": {
    "hash": "a106ff1e2abe2232f7d6fde0574dfef49e8310a68d92e6d5c70481149dd99c89"
   }
  }
 },
 "nbformat": 4,
 "nbformat_minor": 5
}
